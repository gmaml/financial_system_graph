{
 "cells": [
  {
   "cell_type": "code",
   "execution_count": 45,
   "metadata": {},
   "outputs": [
    {
     "ename": "KeyboardInterrupt",
     "evalue": "",
     "output_type": "error",
     "traceback": [
      "\u001b[0;31m---------------------------------------------------------------------------\u001b[0m",
      "\u001b[0;31mKeyboardInterrupt\u001b[0m                         Traceback (most recent call last)",
      "Cell \u001b[0;32mIn[45], line 51\u001b[0m\n\u001b[1;32m     48\u001b[0m     all_series\u001b[38;5;241m.\u001b[39mappend(series_attributes)\n\u001b[1;32m     50\u001b[0m     \u001b[38;5;66;03m# Stack the temporary DataFrame to the main DataFrame\u001b[39;00m\n\u001b[0;32m---> 51\u001b[0m     z1df \u001b[38;5;241m=\u001b[39m pd\u001b[38;5;241m.\u001b[39mconcat([z1df, tempdf], ignore_index\u001b[38;5;241m=\u001b[39m\u001b[38;5;28;01mTrue\u001b[39;00m)\n\u001b[1;32m     54\u001b[0m     \u001b[38;5;66;03m#print(\"Updated Series Attributes:\", series_attributes)  # Print updated series attributes\u001b[39;00m\n\u001b[1;32m     55\u001b[0m \n\u001b[1;32m     56\u001b[0m \u001b[38;5;66;03m# show Z1df\u001b[39;00m\n\u001b[1;32m     58\u001b[0m z1df\u001b[38;5;241m.\u001b[39mhead()\n",
      "\u001b[0;31mKeyboardInterrupt\u001b[0m: "
     ]
    }
   ],
   "source": [
    "import xml.etree.ElementTree as ET\n",
    "import pandas as pd\n",
    "from tqdm import tqdm  # Import tqdm for the progress bar\n",
    "\n",
    "z1_xml_file = './FRB_z1/Z1_data.xml'\n",
    "schema_file = './FRB_z0/Z1_Z1.xsd'\n",
    "\n",
    "\n",
    "# Define the namespaces\n",
    "\n",
    "namespaces = {\n",
    "    'kf': 'http://www.federalreserve.gov/structure/compact/Z1_Z1',\n",
    "    'frb': 'http://www.federalreserve.gov/structure/compact/common',\n",
    "    'common': 'http://www.SDMX.org/resources/SDMXML/schemas/v1_0/common'\n",
    "    \n",
    "}\n",
    "# Parse the XML file\n",
    "tree = ET.parse(z1_xml_file)\n",
    "root = tree.getroot()\n",
    "\n",
    "# Iterate through kf:Series elements\n",
    "all_series = []\n",
    "\n",
    "column_names =['Date','Obs_value','Series_name']\n",
    "\n",
    "z1df = pd.DataFrame(columns=column_names)\n",
    "\n",
    "# Find all kf:Series elements\n",
    "series_elements = root.findall('.//kf:Series', namespaces)\n",
    "\n",
    "# Iterate through kf:Series elements with a progress bar\n",
    "for series in tqdm(series_elements, desc=\"Processing series\"):\n",
    "    series_attributes = series.attrib\n",
    "    \n",
    "    # Extract frb:Annotations data\n",
    "    annotations_element = series.find('frb:Annotations', namespaces)\n",
    "    #print(\"Annotations Element:\", annotations_element)  # Debug print\n",
    "    if annotations_element is None:\n",
    "        print('Error: Annotations element not found')\n",
    "        continue\n",
    "    \n",
    "    for annotation in annotations_element.findall('common:Annotation', namespaces):\n",
    "        annotation_type = annotation.find('common:AnnotationType', namespaces).text\n",
    "        annotation_text = annotation.find('common:AnnotationText', namespaces).text\n",
    "        series_attributes[annotation_type] = annotation_text\n",
    "\n",
    "     # Iterate through frb:Obs elements within each kf:Series (if needed)\n",
    "    obs_value=[]\n",
    "    time_period=[]\n",
    "    for obs in series.findall('frb:Obs', namespaces):\n",
    "        obs_value.append(obs.get('OBS_VALUE'))\n",
    "        time_period.append(obs.get('TIME_PERIOD'))\n",
    "\n",
    "    temp_dic = {'Date':time_period,'Obs_value':obs_value}\n",
    "    tempdf= pd.DataFrame(temp_dic)\n",
    "    tempdf['Series_name'] = series_attributes['SERIES_NAME'] \n",
    "    \n",
    "    all_series.append(series_attributes)\n",
    "    \n",
    "    # Stack the temporary DataFrame to the main DataFrame\n",
    "    z1df = pd.concat([z1df, tempdf], ignore_index=True)\n",
    "\n",
    "    \n",
    "    #print(\"Updated Series Attributes:\", series_attributes)  # Print updated series attributes\n",
    "\n",
    "# show Z1df\n",
    "\n",
    "z1df.head()"
   ]
  },
  {
   "cell_type": "code",
   "execution_count": null,
   "metadata": {},
   "outputs": [],
   "source": []
  }
 ],
 "metadata": {
  "kernelspec": {
   "display_name": "pytorch",
   "language": "python",
   "name": "python3"
  },
  "language_info": {
   "codemirror_mode": {
    "name": "ipython",
    "version": 3
   },
   "file_extension": ".py",
   "mimetype": "text/x-python",
   "name": "python",
   "nbconvert_exporter": "python",
   "pygments_lexer": "ipython3",
   "version": "3.11.5"
  }
 },
 "nbformat": 4,
 "nbformat_minor": 2
}
