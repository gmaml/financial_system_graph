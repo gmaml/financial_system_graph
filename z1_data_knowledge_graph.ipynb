{
 "cells": [
  {
   "cell_type": "code",
   "execution_count": 3,
   "metadata": {},
   "outputs": [],
   "source": [
    "from llama_index.readers.pdf_table import PDFTableReader\n",
    "from pathlib import Path\n",
    "\n",
    "reader = PDFTableReader()\n",
    "pdf_path = Path(\"z1.pdf\")\n",
    "documents = reader.load_data(file=pdf_path, pages=\"11\")"
   ]
  },
  {
   "cell_type": "code",
   "execution_count": 4,
   "metadata": {},
   "outputs": [
    {
     "data": {
      "text/plain": [
       "[]"
      ]
     },
     "execution_count": 4,
     "metadata": {},
     "output_type": "execute_result"
    }
   ],
   "source": [
    "documents"
   ]
  },
  {
   "cell_type": "code",
   "execution_count": 7,
   "metadata": {},
   "outputs": [
    {
     "data": {
      "text/html": [
       "<div>\n",
       "<style scoped>\n",
       "    .dataframe tbody tr th:only-of-type {\n",
       "        vertical-align: middle;\n",
       "    }\n",
       "\n",
       "    .dataframe tbody tr th {\n",
       "        vertical-align: top;\n",
       "    }\n",
       "\n",
       "    .dataframe thead th {\n",
       "        text-align: right;\n",
       "    }\n",
       "</style>\n",
       "<table border=\"1\" class=\"dataframe\">\n",
       "  <thead>\n",
       "    <tr style=\"text-align: right;\">\n",
       "      <th></th>\n",
       "      <th>FL152000005.Q</th>\n",
       "      <th>Households and nonprofit organizations; total assets</th>\n",
       "      <th>Line 1</th>\n",
       "      <th>B.101 Balance Sheet of Households and Nonprofit Organizations</th>\n",
       "      <th>Millions of dollars; amounts outstanding end of period, not seasonally adjusted</th>\n",
       "    </tr>\n",
       "  </thead>\n",
       "  <tbody>\n",
       "    <tr>\n",
       "      <th>0</th>\n",
       "      <td>LM152010005.Q</td>\n",
       "      <td>Households and nonprofit organizations; nonfin...</td>\n",
       "      <td>Line 2</td>\n",
       "      <td>B.101 Balance Sheet of Households and Nonprofi...</td>\n",
       "      <td>Millions of dollars; amounts outstanding end o...</td>\n",
       "    </tr>\n",
       "    <tr>\n",
       "      <th>1</th>\n",
       "      <td>LM155035005.Q</td>\n",
       "      <td>Households and nonprofit organizations; real e...</td>\n",
       "      <td>Line 3</td>\n",
       "      <td>B.101 Balance Sheet of Households and Nonprofi...</td>\n",
       "      <td>Millions of dollars; amounts outstanding end o...</td>\n",
       "    </tr>\n",
       "    <tr>\n",
       "      <th>2</th>\n",
       "      <td>LM155035015.Q</td>\n",
       "      <td>Households; owner-occupied real estate includi...</td>\n",
       "      <td>Line 4</td>\n",
       "      <td>B.101 Balance Sheet of Households and Nonprofi...</td>\n",
       "      <td>Millions of dollars; amounts outstanding end o...</td>\n",
       "    </tr>\n",
       "    <tr>\n",
       "      <th>3</th>\n",
       "      <td>LM165035005.Q</td>\n",
       "      <td>Nonprofit organizations; real estate at market...</td>\n",
       "      <td>Line 5</td>\n",
       "      <td>B.101 Balance Sheet of Households and Nonprofi...</td>\n",
       "      <td>Millions of dollars; amounts outstanding end o...</td>\n",
       "    </tr>\n",
       "    <tr>\n",
       "      <th>4</th>\n",
       "      <td>LM165015205.Q</td>\n",
       "      <td>Nonprofit organizations; equipment, current co...</td>\n",
       "      <td>Line 6</td>\n",
       "      <td>B.101 Balance Sheet of Households and Nonprofi...</td>\n",
       "      <td>Millions of dollars; amounts outstanding end o...</td>\n",
       "    </tr>\n",
       "  </tbody>\n",
       "</table>\n",
       "</div>"
      ],
      "text/plain": [
       "   FL152000005.Q Households and nonprofit organizations; total assets  Line 1  \\\n",
       "0  LM152010005.Q  Households and nonprofit organizations; nonfin...    Line 2   \n",
       "1  LM155035005.Q  Households and nonprofit organizations; real e...    Line 3   \n",
       "2  LM155035015.Q  Households; owner-occupied real estate includi...    Line 4   \n",
       "3  LM165035005.Q  Nonprofit organizations; real estate at market...    Line 5   \n",
       "4  LM165015205.Q  Nonprofit organizations; equipment, current co...    Line 6   \n",
       "\n",
       "  B.101 Balance Sheet of Households and Nonprofit Organizations  \\\n",
       "0  B.101 Balance Sheet of Households and Nonprofi...              \n",
       "1  B.101 Balance Sheet of Households and Nonprofi...              \n",
       "2  B.101 Balance Sheet of Households and Nonprofi...              \n",
       "3  B.101 Balance Sheet of Households and Nonprofi...              \n",
       "4  B.101 Balance Sheet of Households and Nonprofi...              \n",
       "\n",
       "  Millions of dollars; amounts outstanding end of period, not seasonally adjusted  \n",
       "0  Millions of dollars; amounts outstanding end o...                               \n",
       "1  Millions of dollars; amounts outstanding end o...                               \n",
       "2  Millions of dollars; amounts outstanding end o...                               \n",
       "3  Millions of dollars; amounts outstanding end o...                               \n",
       "4  Millions of dollars; amounts outstanding end o...                               "
      ]
     },
     "execution_count": 7,
     "metadata": {},
     "output_type": "execute_result"
    }
   ],
   "source": [
    "import pandas as pd\n",
    "\n",
    "# Specify the path to your tab-delimited text file\n",
    "file_path = '~/financial_system_graph/z1data/z1_csv_files/data_dictionary/b101.txt'\n",
    "\n",
    "# Read the tab-delimited text file into a pandas DataFrame\n",
    "df = pd.read_csv(file_path, delimiter='\\t')\n",
    "\n",
    "# Display the first few rows of the DataFrame\n",
    "df.head()"
   ]
  },
  {
   "cell_type": "code",
   "execution_count": 1,
   "metadata": {},
   "outputs": [],
   "source": [
    "import psycopg2\n",
    "\n",
    "# Database connection parameters\n",
    "db_name = \"z1data\"\n",
    "db_user = \"gma\"\n",
    "db_password = \"gmapass\"\n",
    "db_host = \"localhost\"\n",
    "db_port = \"5432\"\n",
    "\n",
    "# Connect to the PostgreSQL database\n",
    "conn = psycopg2.connect(\n",
    "    dbname=db_name,\n",
    "    user=db_user,\n",
    "    password=db_password,\n",
    "    host=db_host,\n",
    "    port=db_port\n",
    ")\n",
    "\n",
    "# Create a cursor object\n",
    "cur = conn.cursor()"
   ]
  },
  {
   "cell_type": "code",
   "execution_count": 2,
   "metadata": {},
   "outputs": [
    {
     "data": {
      "text/plain": [
       "<cursor object at 0x78533dd5b2e0; closed: 0>"
      ]
     },
     "execution_count": 2,
     "metadata": {},
     "output_type": "execute_result"
    }
   ],
   "source": [
    "cur"
   ]
  },
  {
   "cell_type": "code",
   "execution_count": 21,
   "metadata": {},
   "outputs": [
    {
     "name": "stdout",
     "output_type": "stream",
     "text": [
      "Table z1_meta_data created successfully.\n"
     ]
    }
   ],
   "source": [
    "import psycopg2\n",
    "from psycopg2 import sql\n",
    "\n",
    "# Database connection parameters\n",
    "db_params = {\n",
    "    'dbname': 'z1data',\n",
    "    'user': 'gma',\n",
    "    'password': 'gmapass',\n",
    "    'host': 'localhost',\n",
    "    'port': '5432'\n",
    "}\n",
    "\n",
    "# SQL command to create the table\n",
    "create_table_query = \"\"\"\n",
    "CREATE TABLE z1_meta_data (\n",
    "    seriesid VARCHAR(100),\n",
    "    long_names VARCHAR(255),\n",
    "    table_position VARCHAR(50),\n",
    "    table_name TEXT,\n",
    "    annotations TEXT \n",
    ");\n",
    "\"\"\"\n",
    "#,\n",
    "#    PRIMARY KEY (seriesid, table_name)\n",
    "\n",
    "try:\n",
    "    # Connect to the PostgreSQL database\n",
    "    conn = psycopg2.connect(**db_params)\n",
    "    cursor = conn.cursor()\n",
    "    \n",
    "    # Execute the SQL command to create the table\n",
    "    cursor.execute(create_table_query)\n",
    "    \n",
    "    # Commit the changes\n",
    "    conn.commit()\n",
    "    \n",
    "    print(\"Table z1_meta_data created successfully.\")\n",
    "    \n",
    "except Exception as error:\n",
    "    print(f\"Error creating table: {error}\")\n",
    "    \n",
    "finally:\n",
    "    # Close the cursor and connection\n",
    "    if cursor:\n",
    "        cursor.close()\n",
    "    if conn:\n",
    "        conn.close()"
   ]
  },
  {
   "cell_type": "code",
   "execution_count": 22,
   "metadata": {},
   "outputs": [
    {
     "name": "stdout",
     "output_type": "stream",
     "text": [
      "Data loaded into z1_meta_data table successfully.\n"
     ]
    }
   ],
   "source": [
    "import os\n",
    "import pandas as pd\n",
    "import psycopg2\n",
    "from sqlalchemy import create_engine\n",
    "import glob\n",
    "\n",
    "# Database connection parameters\n",
    "db_name = \"z1data\"\n",
    "db_user = \"gma\"\n",
    "db_password = \"gmapass\"\n",
    "db_host = \"localhost\"\n",
    "db_port = \"5432\"\n",
    "\n",
    "# Directory containing the text files\n",
    "data_directory = os.path.expanduser(\"~/financial_system_graph/z1data/z1_csv_files/data_dictionary/\")\n",
    "\n",
    "# Create a connection to the PostgreSQL database\n",
    "engine = create_engine(f'postgresql+psycopg2://{db_user}:{db_password}@{db_host}:{db_port}/{db_name}')\n",
    "\n",
    "# Function to read and load data from text files into the table\n",
    "def load_data_from_files(directory):\n",
    "    # Get all text files in the directory except those containing 'transactions' in their name\n",
    "    files = glob.glob(os.path.join(data_directory, '*.txt'))\n",
    "    files_to_load = [f for f in files if 'transactions' not in os.path.basename(f)]\n",
    "        \n",
    "    for file_path in files_to_load:\n",
    "        df = pd.read_csv(file_path, sep='\\t', header=None)\n",
    "        # Check if the DataFrame has five columns\n",
    "        if df.shape[1] == 5:\n",
    "            df.columns = ['seriesid', 'long_names', 'table_position', 'table_name', 'annotations']\n",
    "            # Remove duplicate rows\n",
    "            df.drop_duplicates(inplace=True)\n",
    "            try:\n",
    "                # Load the DataFrame into the PostgreSQL table\n",
    "                df.to_sql('z1_meta_data', engine, if_exists='append', index=False)\n",
    "            except Exception as e:\n",
    "                print(f\"Error writing to database for file {file_path}: {e}\")\n",
    "        else:\n",
    "            print(f\"File {file_path} does not have exactly five columns. Skipping.\")\n",
    "\n",
    "\n",
    "\n",
    "# Load data from text files into the table\n",
    "load_data_from_files(data_directory)\n",
    "\n",
    "print(\"Data loaded into z1_meta_data table successfully.\")"
   ]
  },
  {
   "cell_type": "code",
   "execution_count": null,
   "metadata": {},
   "outputs": [],
   "source": []
  }
 ],
 "metadata": {
  "kernelspec": {
   "display_name": "pytorch",
   "language": "python",
   "name": "python3"
  },
  "language_info": {
   "codemirror_mode": {
    "name": "ipython",
    "version": 3
   },
   "file_extension": ".py",
   "mimetype": "text/x-python",
   "name": "python",
   "nbconvert_exporter": "python",
   "pygments_lexer": "ipython3",
   "version": "3.11.5"
  }
 },
 "nbformat": 4,
 "nbformat_minor": 2
}
